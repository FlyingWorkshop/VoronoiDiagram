{
 "cells": [
  {
   "cell_type": "code",
   "execution_count": 5,
   "metadata": {
    "collapsed": true
   },
   "outputs": [],
   "source": [
    "import matplotlib.pyplot as plt\n",
    "from matplotlib.animation import FuncAnimation\n",
    "import numpy as np\n",
    "from numpy.random import default_rng\n",
    "\n",
    "import itertools\n",
    "\n",
    "RNG = default_rng()"
   ]
  },
  {
   "cell_type": "markdown",
   "source": [
    "# [Voronoi Diagrams](https://en.wikipedia.org/wiki/Voronoi_diagram#Applications)\n",
    "## What is a Voronoi Diagram?\n",
    "\n",
    "A Voronoi diagram is a partitioning of a metric space based on a set of points. Informally, we \"cut\" our metric space into regions based on which point they are closest to. Let $(F_i)_{i \\in I}$ be our set of points over some index $I$ and let our metric space be $\\mathbb{R}^2$ with the Euclidean metric $d$. Then each Voronoi region (sometimes called a Voronoi cell) $R_i$ is the set of points closest to $F_i$ for some $i \\in I$:\n",
    "$$R_i = \\{P \\in \\mathbb{R}^2: d(P, F_i) \\leq d(P, F_j) \\text{ for any $j = 1, \\ldots, n$}\\}.$$\n",
    "\n",
    "If this is not already clear, pictures later in the notebook will be illuminating.\n",
    "\n",
    "[TODO put a picture from code here]\n",
    "\n",
    "## Why care?\n",
    "\n",
    "If you're not a pure mathematician, you may ask yourself _why should I care_? Triangulation is useful in many fields ranging from archeology, art history, to meteorology. [TODO]"
   ],
   "metadata": {
    "collapsed": false
   }
  },
  {
   "cell_type": "code",
   "execution_count": 6,
   "outputs": [
    {
     "data": {
      "text/plain": "<matplotlib.collections.PathCollection at 0x1175fe4d0>"
     },
     "execution_count": 6,
     "metadata": {},
     "output_type": "execute_result"
    },
    {
     "data": {
      "text/plain": "<Figure size 640x480 with 1 Axes>",
      "image/png": "[encoded data removed]"
     },
     "metadata": {},
     "output_type": "display_data"
    }
   ],
   "source": [
    "bounds = (-10, 10)\n",
    "dim = 2\n",
    "num_points = 30\n",
    "points = RNG.uniform(*bounds, size=(30, dim))\n",
    "plt.scatter(points[:, 0], points[:, 1])"
   ],
   "metadata": {
    "collapsed": false
   }
  },
  {
   "cell_type": "code",
   "execution_count": 7,
   "outputs": [],
   "source": [
    "# TODO: read https://towardsdatascience.com/matplotlib-animations-in-jupyter-notebook-4422e4f0e389"
   ],
   "metadata": {
    "collapsed": false
   }
  },
  {
   "cell_type": "markdown",
   "source": [
    "# [Fortune's Algorithm](https://en.wikipedia.org/wiki/Fortune%27s_algorithm)\n",
    "\n",
    "## Overview\n",
    "\n",
    "Fortune's algorithm uses a \"sweep line\" to compute the boundary of Voronoi regions. We sweep a vertical line $\\ell$ across $\\mathbb{R}^2$ and draw parabolas $B_i$ focused at points right of $\\ell$ using $\\ell$ as the directrix. The \"beach line\" $\\mathscr{B}$ is the union of these parabolas containing only their rightmost points at any given $y$-value. The edges of the Voronoi regions are formed by points in the intersection of any two parabolas and on the beach line.\n",
    "\n",
    "\n",
    "<center><img src=\"Fortunes-algorithm-slowed.gif\"/></center>\n",
    "\n",
    "\n",
    "## Correctness\n",
    "\n",
    "First, let's add some more rigour to the definitions introduced above. At any given moment while running the algorithm, $\\ell$ is the vertical line at $x$ for some fixed $x \\in \\mathbb{R}$. Let $\\mathcal{F}$ be the set of points to the right of $\\ell$, i.e., $\\mathcal{F} = \\{F_i : F_i.x \\leq x\\}$ where the notation $F_i.x$ just means the $x$-coordinate of $F_i$. Next, recall that a parabola can be defined as the locus of points equidistant to a focus and a directrix, so since $B_i$ is the parabola with focus $F_i$ and directrix $\\ell$, we define it like\n",
    "\n",
    "$$B_i = \\{ P \\in \\mathbb{R}^2 : d(P, F_i) = d(P, \\ell) \\}$$\n",
    "\n",
    "where $d(P, \\ell)$ means the distance between $P$ and the point in $\\ell$ closest to $P$. Let $\\mathcal{B}$ be the set of $B_i$'s. Finally, we can define the beach line formally\n",
    "\n",
    "$$\\mathscr{B} = \\bigcup_{y \\in \\mathbb{R}} \\left\\{ B_i \\in \\mathcal{B}: B_i.x \\geq B_j.x \\text{ for } B_j \\in \\left\\{B_j \\in \\mathcal{B}: B_j.y = y \\right\\} \\right\\}.$$\n",
    "\n",
    "This clunky notation just means that $\\mathscr{B}$ is the union of all parabolas $B_i$ with the caveat that we only take points closest to $\\ell$ at every given $y$-value.\n",
    "\n",
    "### Proof\n",
    "\n",
    "We claim that for any fixed $\\ell$ that any distinct $B_1, B_2 \\in \\mathcal{B}$ that $B_1 \\cap B_2 \\cap \\mathscr{B} \\subseteq R_1 \\cap R_2$. In other words, the intersection of parabolas on the beach line is always a subset of boundary of the Voronoi regions. To see this, pick any $P \\in B_1 \\cap B_2 \\cap \\mathscr{B}$. Since $P \\in B_1 \\cap B_2$ we have $d(P, F_1) = d(P, F_2)$ so either $P \\in R_1 \\cap R_2$ or $P \\not\\in R_1 \\cap R_2$. If the first case is true, then we're done. For contradiction, suppose that the second case is true. Then there must be some $F_3 \\in \\mathcal{F}$ that is strictly closer to $P$ than $F_1$ and $F_2$, i.e., $d(P, F_3) < d(P, F_1) = d(P, F_2)$.\n",
    "\n",
    "## Proof of Runtime\n",
    "\n"
   ],
   "metadata": {
    "collapsed": false
   }
  },
  {
   "cell_type": "code",
   "execution_count": 7,
   "outputs": [],
   "source": [],
   "metadata": {
    "collapsed": false
   }
  }
 ],
 "metadata": {
  "kernelspec": {
   "display_name": "Python 3",
   "language": "python",
   "name": "python3"
  },
  "language_info": {
   "codemirror_mode": {
    "name": "ipython",
    "version": 2
   },
   "file_extension": ".py",
   "mimetype": "text/x-python",
   "name": "python",
   "nbconvert_exporter": "python",
   "pygments_lexer": "ipython2",
   "version": "2.7.6"
  }
 },
 "nbformat": 4,
 "nbformat_minor": 0
}
