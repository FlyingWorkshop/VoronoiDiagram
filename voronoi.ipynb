{
 "cells": [
  {
   "cell_type": "code",
   "execution_count": 53,
   "metadata": {
    "collapsed": true
   },
   "outputs": [],
   "source": [
    "import matplotlib.pyplot as plt\n",
    "from matplotlib.animation import FuncAnimation\n",
    "import numpy as np\n",
    "from numpy.random import default_rng\n",
    "\n",
    "import itertools\n",
    "\n",
    "RNG = default_rng()"
   ]
  },
  {
   "cell_type": "markdown",
   "metadata": {},
   "source": [
    "# [Voronoi Diagrams](https://en.wikipedia.org/wiki/Voronoi_diagram#Applications)\n",
    "## What is a Voronoi Diagram?\n",
    "\n",
    "A Voronoi diagram is a partitioning of a metric space based on a set of points. Informally, we \"cut\" our metric space into regions based on which point they are closest to. Let $(F_i)_{i \\in I}$ be our set of points over some index $I$ and let our metric space be $\\mathbb{R}^2$ with the Euclidean metric $d$. Then each Voronoi region (sometimes called a Voronoi cell) $R_i$ is the set of points closest to $F_i$ for some $i \\in I$:\n",
    "$$R_i = \\{P \\in \\mathbb{R}^2: d(P, F_i) \\leq d(P, F_j) \\text{ for any $j = 1, \\ldots, n$}\\}.$$\n",
    "\n",
    "If this is not already clear, pictures later in the notebook will be illuminating.\n",
    "\n",
    "<center><img src=\"voronoi.png\"/></center>\n",
    "<center><i>Graphic from Wikipedia. The Voronoi diagram with 20 points using Euclidean distance.</i></center>\n",
    "\n",
    "\n",
    "## Why care?\n",
    "\n",
    "If you're not a pure mathematician, you may ask yourself _why should I care_? Triangulation is useful in many fields ranging from archeology, art history, to meteorology. It's used to draw the borders between empires in video games, and it's even been used to identify the type of [statue](https://en.wikipedia.org/wiki/Sabouroff_head) that a fragment came from."
   ]
  },
  {
   "cell_type": "markdown",
   "metadata": {},
   "source": [
    "# [Fortune's Algorithm](https://en.wikipedia.org/wiki/Fortune%27s_algorithm)\n",
    "\n",
    "## Overview\n",
    "\n",
    "Fortune's algorithm uses a \"sweep line\" to compute the boundary of Voronoi regions. We sweep a vertical line $\\ell$ across $\\mathbb{R}^2$ and draw parabolas $B_i$ focused at points left of $\\ell$ using $\\ell$ as the directrix. The \"beach line\" $\\mathscr{B}$ is the union of these parabolas containing only their rightmost points at any given $y$-value. The edges of the Voronoi regions are formed by points in the intersection of any two parabolas and on the beach line.\n",
    "\n",
    "\n",
    "<center><img src=\"Fortunes-algorithm-slowed.gif\"/></center>\n",
    "\n",
    "\n",
    "<center><i>Graphic from Wikipedia. The sweep line is red. The beach lines are in black</i></center>\n",
    "\n",
    "## Correctness\n",
    "\n",
    "First, let's add some more rigour to the definitions introduced above. At any given moment while running the algorithm, $\\ell$ is the vertical line at $x$ for some fixed $x \\in \\mathbb{R}$. Let $\\mathcal{F}$ be the set of points to the left of $\\ell$, i.e., $\\mathcal{F} = \\{F_i : F_i.x \\leq x\\}$ where the notation $F_i.x$ just means the $x$-coordinate of $F_i$. Next, recall that a parabola can be defined as the locus of points equidistant to a focus and a directrix, so since $B_i$ is the parabola with focus $F_i$ and directrix $\\ell$, we define it like\n",
    "\n",
    "$$B_i = \\{ P \\in \\mathbb{R}^2 : d(P, F_i) = d(P, \\ell) \\}$$\n",
    "\n",
    "where $d(P, \\ell)$ means the distance between $P$ and the point in $\\ell$ closest to $P$. Let $\\mathcal{B}$ be the set of $B_i$'s. Finally, we can define the beach line formally\n",
    "\n",
    "$$\\mathscr{B} = \\bigcup_{y \\in \\mathbb{R}} \\left\\{ B_i \\in \\mathcal{B}: B_i.x \\geq B_j.x \\text{ for } B_j \\in \\left\\{B_j \\in \\mathcal{B}: B_j.y = y \\right\\} \\right\\}.$$\n",
    "\n",
    "This clunky notation just means that $\\mathscr{B}$ is the union of all parabolas $B_i$ with the caveat that we only take points closest to $\\ell$ at every given $y$-value.\n",
    "\n",
    "### Proof\n",
    "\n",
    "We claim that for any fixed $\\ell$ that any distinct $B_1, B_2 \\in \\mathcal{B}$ that $B_1 \\cap B_2 \\cap \\mathscr{B} \\subseteq R_1 \\cap R_2$. In other words, the intersection of parabolas on the beach line is always a subset of boundary of the Voronoi regions. To see this, pick any $P \\in B_1 \\cap B_2 \\cap \\mathscr{B}$. Since $P \\in B_1 \\cap B_2$ we have $d(P, F_1) = d(P, F_2)$ so either $P \\in R_1 \\cap R_2$ or $P \\not\\in R_1 \\cap R_2$. If the first case is true, then we're done. The second case is impossible via rather ugly algebra. For example, if $F_1 = (h_1, k_1)$ and $F_2 = (h_2, k_2)$ then the formula for the $x$-coordinate of the relevant intersection $P$ (assuming WLOG that $h_1 < h_2$) using a horizontal directrix $y = D$ is:\n",
    "$$\n",
    "\\frac{\\left(k_{1}-D\\right)2h_{2}-\\left(k_{2}-D\\right)2h_{1}-\\sqrt{\\left(\\left(k_{2}-D\\right)2h_{1}-\\left(k_{1}-D\\right)2h_{2}\\right)^{2}-4\\left(k_{1}-k_{2}\\right)\\left(\\left(k_{1}-D\\right)h_{2}^{2}-\\left(k_{2}-D\\right)h_{1}^{2}-\\left(k_{1}-k_{2}\\right)\\left(k_{1}-D\\right)\\left(k_{2}-D\\right)\\right)}}{2\\left(k_{1}-k_{2}\\right)}.\n",
    "$$\n",
    "For clarity, I have opted to instead create a [Desmos graph](https://www.desmos.com/calculator/sjz0arobue). It's interactive, so try moving around $F_3$ to see if you can make sure that it's both closer to $P$ than either $F_1$ or $F_2$ while not passing below $P$ (since $P$ must be on the beach line). Notice that we can only put $P$ on the beach line if the purple parabola.\n",
    "\n"
   ]
  },
  {
   "cell_type": "code",
   "execution_count": 54,
   "outputs": [
    {
     "data": {
      "text/plain": "<IPython.lib.display.IFrame at 0x108d07590>",
      "text/html": "\n        <iframe\n            width=\"700\"\n            height=\"350\"\n            src=\"https://www.desmos.com/calculator/sjz0arobue?embed\"\n            frameborder=\"0\"\n            allowfullscreen\n            \n        ></iframe>\n        "
     },
     "execution_count": 54,
     "metadata": {},
     "output_type": "execute_result"
    }
   ],
   "source": [
    "from IPython.display import IFrame\n",
    "IFrame('https://www.desmos.com/calculator/sjz0arobue?embed', width=700, height=350)"
   ],
   "metadata": {
    "collapsed": false
   }
  },
  {
   "cell_type": "code",
   "execution_count": 58,
   "outputs": [
    {
     "data": {
      "text/plain": "array([[ 7.30234816,  7.43054158],\n       [ 4.09539968, -9.9468371 ],\n       [ 9.60216553, -5.10820998],\n       [ 2.15447702,  0.63995008],\n       [-1.62313687,  5.62308978],\n       [-1.89131148, -5.57256249],\n       [-4.64937767, -9.1009448 ],\n       [-3.76236187, -6.50666482],\n       [ 2.17555843,  9.17649081],\n       [ 5.95698312, -2.82536883],\n       [ 9.89528792, -4.34981199],\n       [ 4.81755618, -9.35744914],\n       [ 1.95223172,  4.68876664],\n       [ 7.49269828, -6.25158044],\n       [-6.17371246,  9.62846045],\n       [ 4.56979052,  9.10125052],\n       [-3.08165333, -7.86145034],\n       [ 9.47427721,  1.01192717],\n       [ 1.423609  ,  0.35419249],\n       [ 9.2642905 ,  5.43158577]])"
     },
     "execution_count": 58,
     "metadata": {},
     "output_type": "execute_result"
    }
   ],
   "source": [
    "num_points = 20\n",
    "dim = 2\n",
    "bounds = (-10, 10)\n",
    "foci = RNG.uniform(*bounds, size=(num_points, dim))\n",
    "for directrix in np.linspace(*bounds):\n"
   ],
   "metadata": {
    "collapsed": false
   }
  }
 ],
 "metadata": {
  "kernelspec": {
   "display_name": "Python 3 (ipykernel)",
   "language": "python",
   "name": "python3"
  },
  "language_info": {
   "codemirror_mode": {
    "name": "ipython",
    "version": 3
   },
   "file_extension": ".py",
   "mimetype": "text/x-python",
   "name": "python",
   "nbconvert_exporter": "python",
   "pygments_lexer": "ipython3",
   "version": "3.11.0"
  }
 },
 "nbformat": 4,
 "nbformat_minor": 1
}
