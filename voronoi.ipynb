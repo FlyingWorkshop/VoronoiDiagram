{
 "cells": [
  {
   "cell_type": "code",
   "execution_count": 22,
   "metadata": {
    "collapsed": true
   },
   "outputs": [],
   "source": [
    "import matplotlib.pyplot as plt\n",
    "import numpy as np\n",
    "from numpy.random import default_rng\n",
    "\n",
    "import itertools\n",
    "\n",
    "RNG = default_rng()"
   ]
  },
  {
   "cell_type": "markdown",
   "source": [
    "# [Voronoi Diagrams](https://en.wikipedia.org/wiki/Voronoi_diagram#Applications)\n",
    "## What is a Voronoi Diagram?\n",
    "A Voronoi diagram (on $\\mathbb{R}^2$) is a way to cut space into regions close to points. If we have points $p_1, \\ldots, p_n$ in $\\mathbb{R}^2$, the Voronoi cell $R_i$ is the set of all points closest to $p_i$ i.e.,\n",
    "$$R_i = \\{p \\in \\mathbb{R}^2: d(p, p_i) \\leq d(p, p_j) \\text{ for any $j = 1, \\ldots, n$}\\}.$$\n",
    "\n",
    "If this is not already clear, pictures later in the notebook will be illuminating.\n",
    "\n",
    "## Why should I care?\n",
    "\n",
    "If you're not a pure mathematician, you may ask yourself _why should I care_? Triangulation is useful in many fields ranging from archeology, art history, to meteorology. [TODO]"
   ],
   "metadata": {
    "collapsed": false
   }
  },
  {
   "cell_type": "code",
   "execution_count": 23,
   "outputs": [
    {
     "data": {
      "text/plain": "<matplotlib.collections.PathCollection at 0x1109b3410>"
     },
     "execution_count": 23,
     "metadata": {},
     "output_type": "execute_result"
    },
    {
     "data": {
      "text/plain": "<Figure size 640x480 with 1 Axes>",
      "image/png": "[encoded data removed]"
     },
     "metadata": {},
     "output_type": "display_data"
    }
   ],
   "source": [
    "bounds = (-10, 10)\n",
    "dim = 2\n",
    "num_points = 30\n",
    "points = RNG.uniform(*bounds, size=(30, dim))\n",
    "plt.scatter(points[:, 0], points[:, 1])"
   ],
   "metadata": {
    "collapsed": false
   }
  },
  {
   "cell_type": "markdown",
   "source": [
    "# [Fortune's Algorithm](https://en.wikipedia.org/wiki/Fortune%27s_algorithm)"
   ],
   "metadata": {
    "collapsed": false
   }
  },
  {
   "cell_type": "code",
   "execution_count": 24,
   "outputs": [
    {
     "ename": "TypeError",
     "evalue": "_outer_dispatcher() missing 2 required positional arguments: 'a' and 'b'",
     "output_type": "error",
     "traceback": [
      "\u001B[0;31m---------------------------------------------------------------------------\u001B[0m",
      "\u001B[0;31mTypeError\u001B[0m                                 Traceback (most recent call last)",
      "Cell \u001B[0;32mIn [24], line 1\u001B[0m\n\u001B[0;32m----> 1\u001B[0m \u001B[43mnp\u001B[49m\u001B[38;5;241;43m.\u001B[39;49m\u001B[43mouter\u001B[49m\u001B[43m(\u001B[49m\u001B[43m)\u001B[49m\n\u001B[1;32m      2\u001B[0m distances \u001B[38;5;241m=\u001B[39m np\u001B[38;5;241m.\u001B[39mlinalg\u001B[38;5;241m.\u001B[39mnorm()\n",
      "File \u001B[0;32m<__array_function__ internals>:179\u001B[0m, in \u001B[0;36mouter\u001B[0;34m(*args, **kwargs)\u001B[0m\n",
      "\u001B[0;31mTypeError\u001B[0m: _outer_dispatcher() missing 2 required positional arguments: 'a' and 'b'"
     ]
    }
   ],
   "source": [
    "np.outer()\n",
    "distances = np.linalg.norm()"
   ],
   "metadata": {
    "collapsed": false
   }
  }
 ],
 "metadata": {
  "kernelspec": {
   "display_name": "Python 3",
   "language": "python",
   "name": "python3"
  },
  "language_info": {
   "codemirror_mode": {
    "name": "ipython",
    "version": 2
   },
   "file_extension": ".py",
   "mimetype": "text/x-python",
   "name": "python",
   "nbconvert_exporter": "python",
   "pygments_lexer": "ipython2",
   "version": "2.7.6"
  }
 },
 "nbformat": 4,
 "nbformat_minor": 0
}
